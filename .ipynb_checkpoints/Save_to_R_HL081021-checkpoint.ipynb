{
 "cells": [
  {
   "cell_type": "markdown",
   "metadata": {},
   "source": [
    "Goal: convert and save data as csv file for following r analsyis\n",
    "\n",
    "input data: those calculated in compute_vals_HL092220"
   ]
  },
  {
   "cell_type": "code",
   "execution_count": 1,
   "metadata": {},
   "outputs": [
    {
     "name": "stdout",
     "output_type": "stream",
     "text": [
      "/home/luxx0489\n"
     ]
    }
   ],
   "source": [
    "cd"
   ]
  },
  {
   "cell_type": "code",
   "execution_count": 2,
   "metadata": {},
   "outputs": [],
   "source": [
    "# import packages\n",
    "import numpy as np\n",
    "import pandas as pd\n",
    "import matplotlib.pyplot as plt\n",
    "from random import sample\n",
    "import pickle\n",
    "from scipy.stats import circmean,circvar\n",
    "from sklearn import decomposition"
   ]
  },
  {
   "cell_type": "markdown",
   "metadata": {},
   "source": [
    "# Section 1"
   ]
  },
  {
   "cell_type": "markdown",
   "metadata": {},
   "source": [
    "## Fig.1"
   ]
  },
  {
   "cell_type": "markdown",
   "metadata": {},
   "source": [
    "Dataset of the absolute PLV values"
   ]
  },
  {
   "cell_type": "code",
   "execution_count": 7,
   "metadata": {},
   "outputs": [],
   "source": [
    "folder_path = \"./jupyter_projects/MultiChannelSSSR/EEG_data_40_100_200Hz_HF/\"\n",
    "file_handle = open(folder_path +'/absolute_PLV_and_Mag_all.obj','rb')\n",
    "output = pickle.load(file_handle)\n",
    "file_handle.close()\n",
    "\n",
    "ID_list = [6,7,8,9,10,12,14,16,17,18,19,20,21,22]\n"
   ]
  },
  {
   "cell_type": "code",
   "execution_count": 9,
   "metadata": {},
   "outputs": [],
   "source": [
    "\n",
    "df = pd.DataFrame(output[:,0:5],columns=['ID','reference','frequency']+ ['Mag_Cz','PLV_Cz'])\n",
    "df.head()\n",
    "\n",
    "df.to_csv(r'./jupyter_projects/MultiChannelSSSR/absolute_PLV_and_Mag_all.csv')"
   ]
  },
  {
   "cell_type": "markdown",
   "metadata": {},
   "source": [
    "## Fig.2"
   ]
  },
  {
   "cell_type": "code",
   "execution_count": 26,
   "metadata": {},
   "outputs": [],
   "source": [
    "folder_path = \"./jupyter_projects/MultiChannelSSSR/EEG_data_40_100_200Hz_HF/\"\n",
    "file_handle = open(folder_path +'/Fig23_location_PLV_all.obj','rb')\n",
    "output = pickle.load(file_handle)\n",
    "file_handle.close()\n",
    "\n",
    "output_col = np.empty((output.shape[0]*3,4))\n",
    "\n",
    "row_n = 0\n",
    "\n",
    "for i in range(output.shape[0]):\n",
    "    for j in [2,3,4]:\n",
    "        output_col[row_n,0:2] = output[i,0:2]\n",
    "        output_col[row_n,2] = j-1\n",
    "        output_col[row_n,3] = output[i,j]\n",
    "        row_n +=1"
   ]
  },
  {
   "cell_type": "code",
   "execution_count": 27,
   "metadata": {},
   "outputs": [
    {
     "data": {
      "text/html": [
       "<div>\n",
       "<style scoped>\n",
       "    .dataframe tbody tr th:only-of-type {\n",
       "        vertical-align: middle;\n",
       "    }\n",
       "\n",
       "    .dataframe tbody tr th {\n",
       "        vertical-align: top;\n",
       "    }\n",
       "\n",
       "    .dataframe thead th {\n",
       "        text-align: right;\n",
       "    }\n",
       "</style>\n",
       "<table border=\"1\" class=\"dataframe\">\n",
       "  <thead>\n",
       "    <tr style=\"text-align: right;\">\n",
       "      <th></th>\n",
       "      <th>ID</th>\n",
       "      <th>frequency(Hz)</th>\n",
       "      <th>channel</th>\n",
       "      <th>PLV</th>\n",
       "    </tr>\n",
       "  </thead>\n",
       "  <tbody>\n",
       "    <tr>\n",
       "      <th>0</th>\n",
       "      <td>6.0</td>\n",
       "      <td>34.28</td>\n",
       "      <td>1.0</td>\n",
       "      <td>0.039430</td>\n",
       "    </tr>\n",
       "    <tr>\n",
       "      <th>1</th>\n",
       "      <td>6.0</td>\n",
       "      <td>34.28</td>\n",
       "      <td>2.0</td>\n",
       "      <td>0.026197</td>\n",
       "    </tr>\n",
       "    <tr>\n",
       "      <th>2</th>\n",
       "      <td>6.0</td>\n",
       "      <td>34.28</td>\n",
       "      <td>3.0</td>\n",
       "      <td>0.063782</td>\n",
       "    </tr>\n",
       "    <tr>\n",
       "      <th>3</th>\n",
       "      <td>6.0</td>\n",
       "      <td>91.42</td>\n",
       "      <td>1.0</td>\n",
       "      <td>0.112501</td>\n",
       "    </tr>\n",
       "    <tr>\n",
       "      <th>4</th>\n",
       "      <td>6.0</td>\n",
       "      <td>91.42</td>\n",
       "      <td>2.0</td>\n",
       "      <td>0.007926</td>\n",
       "    </tr>\n",
       "  </tbody>\n",
       "</table>\n",
       "</div>"
      ],
      "text/plain": [
       "    ID  frequency(Hz)  channel       PLV\n",
       "0  6.0          34.28      1.0  0.039430\n",
       "1  6.0          34.28      2.0  0.026197\n",
       "2  6.0          34.28      3.0  0.063782\n",
       "3  6.0          91.42      1.0  0.112501\n",
       "4  6.0          91.42      2.0  0.007926"
      ]
     },
     "execution_count": 27,
     "metadata": {},
     "output_type": "execute_result"
    }
   ],
   "source": [
    "ID_list = [6,7,8,9,10,12,14,16,17,18,19,20,21,22]\n",
    "\n",
    "Freq_set = {34.28, 91.42, 217.13}\n",
    "\n",
    "label = [output_col[iE,1] in Freq_set for iE in range(output_col.shape[0])]\n",
    "df = pd.DataFrame(output_col[label,:],columns=['ID','frequency(Hz)']+ ['channel','PLV'])\n",
    "df.head()"
   ]
  },
  {
   "cell_type": "code",
   "execution_count": 30,
   "metadata": {},
   "outputs": [],
   "source": [
    "df.to_csv(r'./jupyter_projects/MultiChannelSSSR/Fig2_location_PLV_all.csv')"
   ]
  },
  {
   "cell_type": "markdown",
   "metadata": {},
   "source": [
    "## Fig.3"
   ]
  },
  {
   "cell_type": "code",
   "execution_count": 5,
   "metadata": {},
   "outputs": [],
   "source": [
    "folder_path = \"./jupyter_projects/MultiChannelSSSR/EEG_data_40_100_200Hz_HF/\"\n",
    "file_handle = open(folder_path +'/Fig23_location_PLV_all.obj','rb')\n",
    "output = pickle.load(file_handle)\n",
    "file_handle.close()"
   ]
  },
  {
   "cell_type": "code",
   "execution_count": 18,
   "metadata": {},
   "outputs": [],
   "source": [
    "output_diff = np.empty((output.shape[0],5))\n",
    "\n",
    "row_n = 0\n",
    "\n",
    "for i in range(output.shape[0]):\n",
    "    output_diff[i,0:2] = output[i,0:2]\n",
    "    output_diff[i,2] = output[i,5]-output[i,7]\n",
    "    output_diff[i,3] = output[i,5]\n",
    "    output_diff[i,4] = output[i,6]"
   ]
  },
  {
   "cell_type": "code",
   "execution_count": 19,
   "metadata": {},
   "outputs": [
    {
     "data": {
      "text/html": [
       "<div>\n",
       "<style scoped>\n",
       "    .dataframe tbody tr th:only-of-type {\n",
       "        vertical-align: middle;\n",
       "    }\n",
       "\n",
       "    .dataframe tbody tr th {\n",
       "        vertical-align: top;\n",
       "    }\n",
       "\n",
       "    .dataframe thead th {\n",
       "        text-align: right;\n",
       "    }\n",
       "</style>\n",
       "<table border=\"1\" class=\"dataframe\">\n",
       "  <thead>\n",
       "    <tr style=\"text-align: right;\">\n",
       "      <th></th>\n",
       "      <th>ID</th>\n",
       "      <th>frequency(Hz)</th>\n",
       "      <th>PhaseDiff</th>\n",
       "      <th>Vertex</th>\n",
       "      <th>Mastoid</th>\n",
       "    </tr>\n",
       "  </thead>\n",
       "  <tbody>\n",
       "    <tr>\n",
       "      <th>0</th>\n",
       "      <td>6.0</td>\n",
       "      <td>34.28</td>\n",
       "      <td>2.143797</td>\n",
       "      <td>0.750130</td>\n",
       "      <td>-2.578053</td>\n",
       "    </tr>\n",
       "    <tr>\n",
       "      <th>1</th>\n",
       "      <td>6.0</td>\n",
       "      <td>91.42</td>\n",
       "      <td>1.932726</td>\n",
       "      <td>2.296542</td>\n",
       "      <td>0.888790</td>\n",
       "    </tr>\n",
       "    <tr>\n",
       "      <th>2</th>\n",
       "      <td>6.0</td>\n",
       "      <td>217.13</td>\n",
       "      <td>4.859545</td>\n",
       "      <td>1.828589</td>\n",
       "      <td>1.508661</td>\n",
       "    </tr>\n",
       "    <tr>\n",
       "      <th>3</th>\n",
       "      <td>7.0</td>\n",
       "      <td>34.28</td>\n",
       "      <td>-3.081439</td>\n",
       "      <td>-0.986724</td>\n",
       "      <td>-1.894215</td>\n",
       "    </tr>\n",
       "    <tr>\n",
       "      <th>4</th>\n",
       "      <td>7.0</td>\n",
       "      <td>91.42</td>\n",
       "      <td>2.117985</td>\n",
       "      <td>0.906425</td>\n",
       "      <td>1.200837</td>\n",
       "    </tr>\n",
       "  </tbody>\n",
       "</table>\n",
       "</div>"
      ],
      "text/plain": [
       "    ID  frequency(Hz)  PhaseDiff    Vertex   Mastoid\n",
       "0  6.0          34.28   2.143797  0.750130 -2.578053\n",
       "1  6.0          91.42   1.932726  2.296542  0.888790\n",
       "2  6.0         217.13   4.859545  1.828589  1.508661\n",
       "3  7.0          34.28  -3.081439 -0.986724 -1.894215\n",
       "4  7.0          91.42   2.117985  0.906425  1.200837"
      ]
     },
     "execution_count": 19,
     "metadata": {},
     "output_type": "execute_result"
    }
   ],
   "source": [
    "ID_list = [6,7,8,9,10,12,14,16,17,18,19,20,21,22]\n",
    "\n",
    "Freq_set = {34.28, 91.42, 217.13}\n",
    "\n",
    "label = [output_diff[iE,1] in Freq_set for iE in range(output_diff.shape[0])]\n",
    "df = pd.DataFrame(output_diff[label,:],columns=['ID','frequency(Hz)']+ ['PhaseDiff','Vertex','Mastoid'])\n",
    "df.head()"
   ]
  },
  {
   "cell_type": "code",
   "execution_count": 20,
   "metadata": {},
   "outputs": [],
   "source": [
    "df.to_csv(r'./jupyter_projects/MultiChannelSSSR/Fig3_Phase_Diff_all.csv')"
   ]
  },
  {
   "cell_type": "markdown",
   "metadata": {},
   "source": [
    "## Fig.4"
   ]
  },
  {
   "cell_type": "code",
   "execution_count": 3,
   "metadata": {},
   "outputs": [],
   "source": [
    "folder_path = \"./jupyter_projects/MultiChannelSSSR/EEG_data_40_100_200Hz_HF\"\n",
    "file_handle = open(folder_path +'/method_comparison_all.obj','rb')\n",
    "output = pickle.load(file_handle)\n",
    "file_handle.close()\n",
    "\n",
    "ID_list = [6,7,8,9,10,12,14,16,17,18,19,20,21,22]\n"
   ]
  },
  {
   "cell_type": "code",
   "execution_count": 4,
   "metadata": {},
   "outputs": [
    {
     "data": {
      "text/html": [
       "<div>\n",
       "<style scoped>\n",
       "    .dataframe tbody tr th:only-of-type {\n",
       "        vertical-align: middle;\n",
       "    }\n",
       "\n",
       "    .dataframe tbody tr th {\n",
       "        vertical-align: top;\n",
       "    }\n",
       "\n",
       "    .dataframe thead th {\n",
       "        text-align: right;\n",
       "    }\n",
       "</style>\n",
       "<table border=\"1\" class=\"dataframe\">\n",
       "  <thead>\n",
       "    <tr style=\"text-align: right;\">\n",
       "      <th></th>\n",
       "      <th>ID</th>\n",
       "      <th>reference</th>\n",
       "      <th>frequency</th>\n",
       "      <th>sample size</th>\n",
       "      <th>PLV</th>\n",
       "      <th>ITC</th>\n",
       "      <th>PLV_Cz</th>\n",
       "      <th>ITC_Cz</th>\n",
       "      <th>plv_mean</th>\n",
       "      <th>itc_mean</th>\n",
       "      <th>plv_rms</th>\n",
       "      <th>itc_rms</th>\n",
       "      <th>T2</th>\n",
       "      <th>cpca</th>\n",
       "      <th>tpca</th>\n",
       "      <th>msmc</th>\n",
       "    </tr>\n",
       "  </thead>\n",
       "  <tbody>\n",
       "    <tr>\n",
       "      <th>0</th>\n",
       "      <td>6.0</td>\n",
       "      <td>0.0</td>\n",
       "      <td>34.28</td>\n",
       "      <td>200.0</td>\n",
       "      <td>0.703569</td>\n",
       "      <td>0.757198</td>\n",
       "      <td>0.543102</td>\n",
       "      <td>-0.463150</td>\n",
       "      <td>4.633851</td>\n",
       "      <td>3.496403</td>\n",
       "      <td>5.983323</td>\n",
       "      <td>4.368696</td>\n",
       "      <td>5.356860</td>\n",
       "      <td>2.495013</td>\n",
       "      <td>4.331694</td>\n",
       "      <td>2.516229</td>\n",
       "    </tr>\n",
       "    <tr>\n",
       "      <th>1</th>\n",
       "      <td>6.0</td>\n",
       "      <td>0.0</td>\n",
       "      <td>34.28</td>\n",
       "      <td>400.0</td>\n",
       "      <td>2.905746</td>\n",
       "      <td>2.674793</td>\n",
       "      <td>-1.080235</td>\n",
       "      <td>1.174919</td>\n",
       "      <td>2.918407</td>\n",
       "      <td>2.854736</td>\n",
       "      <td>3.995826</td>\n",
       "      <td>3.545471</td>\n",
       "      <td>3.145545</td>\n",
       "      <td>-0.335521</td>\n",
       "      <td>-0.088354</td>\n",
       "      <td>3.974413</td>\n",
       "    </tr>\n",
       "    <tr>\n",
       "      <th>2</th>\n",
       "      <td>6.0</td>\n",
       "      <td>0.0</td>\n",
       "      <td>34.28</td>\n",
       "      <td>600.0</td>\n",
       "      <td>2.506632</td>\n",
       "      <td>2.087461</td>\n",
       "      <td>1.055651</td>\n",
       "      <td>2.195359</td>\n",
       "      <td>2.240205</td>\n",
       "      <td>2.116081</td>\n",
       "      <td>3.342229</td>\n",
       "      <td>2.959268</td>\n",
       "      <td>1.483578</td>\n",
       "      <td>-1.870668</td>\n",
       "      <td>-0.082296</td>\n",
       "      <td>1.751963</td>\n",
       "    </tr>\n",
       "    <tr>\n",
       "      <th>3</th>\n",
       "      <td>6.0</td>\n",
       "      <td>0.0</td>\n",
       "      <td>34.28</td>\n",
       "      <td>800.0</td>\n",
       "      <td>3.897104</td>\n",
       "      <td>3.518992</td>\n",
       "      <td>0.856860</td>\n",
       "      <td>2.252147</td>\n",
       "      <td>6.597988</td>\n",
       "      <td>3.915547</td>\n",
       "      <td>8.709204</td>\n",
       "      <td>5.223220</td>\n",
       "      <td>4.117373</td>\n",
       "      <td>-1.080298</td>\n",
       "      <td>1.041051</td>\n",
       "      <td>4.558004</td>\n",
       "    </tr>\n",
       "    <tr>\n",
       "      <th>4</th>\n",
       "      <td>6.0</td>\n",
       "      <td>0.0</td>\n",
       "      <td>34.28</td>\n",
       "      <td>1000.0</td>\n",
       "      <td>2.441799</td>\n",
       "      <td>3.110415</td>\n",
       "      <td>0.889446</td>\n",
       "      <td>3.139119</td>\n",
       "      <td>8.293061</td>\n",
       "      <td>7.256887</td>\n",
       "      <td>10.718769</td>\n",
       "      <td>8.704483</td>\n",
       "      <td>10.651538</td>\n",
       "      <td>0.512486</td>\n",
       "      <td>2.261927</td>\n",
       "      <td>11.978895</td>\n",
       "    </tr>\n",
       "  </tbody>\n",
       "</table>\n",
       "</div>"
      ],
      "text/plain": [
       "    ID  reference  frequency  sample size       PLV       ITC    PLV_Cz  \\\n",
       "0  6.0        0.0      34.28        200.0  0.703569  0.757198  0.543102   \n",
       "1  6.0        0.0      34.28        400.0  2.905746  2.674793 -1.080235   \n",
       "2  6.0        0.0      34.28        600.0  2.506632  2.087461  1.055651   \n",
       "3  6.0        0.0      34.28        800.0  3.897104  3.518992  0.856860   \n",
       "4  6.0        0.0      34.28       1000.0  2.441799  3.110415  0.889446   \n",
       "\n",
       "     ITC_Cz  plv_mean  itc_mean    plv_rms   itc_rms         T2      cpca  \\\n",
       "0 -0.463150  4.633851  3.496403   5.983323  4.368696   5.356860  2.495013   \n",
       "1  1.174919  2.918407  2.854736   3.995826  3.545471   3.145545 -0.335521   \n",
       "2  2.195359  2.240205  2.116081   3.342229  2.959268   1.483578 -1.870668   \n",
       "3  2.252147  6.597988  3.915547   8.709204  5.223220   4.117373 -1.080298   \n",
       "4  3.139119  8.293061  7.256887  10.718769  8.704483  10.651538  0.512486   \n",
       "\n",
       "       tpca       msmc  \n",
       "0  4.331694   2.516229  \n",
       "1 -0.088354   3.974413  \n",
       "2 -0.082296   1.751963  \n",
       "3  1.041051   4.558004  \n",
       "4  2.261927  11.978895  "
      ]
     },
     "execution_count": 4,
     "metadata": {},
     "output_type": "execute_result"
    }
   ],
   "source": [
    "\n",
    "df = pd.DataFrame(output[:,:],columns=['ID','reference','frequency','sample size']+\n",
    "                  ['PLV','ITC','PLV_Cz','ITC_Cz','plv_mean','itc_mean','plv_rms','itc_rms','T2','cpca','tpca','msmc'])\n",
    "df.head()"
   ]
  },
  {
   "cell_type": "code",
   "execution_count": 5,
   "metadata": {},
   "outputs": [],
   "source": [
    "dictionary = {0:'CAR',1:'LMR'}\n",
    "df_s =df[['ID','reference','frequency','sample size']+\n",
    "                  ['PLV_Cz','plv_rms','T2','cpca','tpca','msmc']].replace({'reference':dictionary})\n",
    "\n",
    "df_m = df_s.melt(['ID','reference','frequency','sample size'])"
   ]
  },
  {
   "cell_type": "code",
   "execution_count": 6,
   "metadata": {},
   "outputs": [],
   "source": [
    "df_m.to_csv(r'./jupyter_projects/MultiChannelSSSR/Fig4_method_comparison_Cz.csv')"
   ]
  }
 ],
 "metadata": {
  "kernelspec": {
   "display_name": "Python 3",
   "language": "python",
   "name": "python3"
  },
  "language_info": {
   "codemirror_mode": {
    "name": "ipython",
    "version": 3
   },
   "file_extension": ".py",
   "mimetype": "text/x-python",
   "name": "python",
   "nbconvert_exporter": "python",
   "pygments_lexer": "ipython3",
   "version": "3.7.5"
  }
 },
 "nbformat": 4,
 "nbformat_minor": 2
}
