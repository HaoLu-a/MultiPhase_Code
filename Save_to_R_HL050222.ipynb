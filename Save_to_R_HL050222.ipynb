{
 "cells": [
  {
   "cell_type": "markdown",
   "metadata": {},
   "source": [
    "Goal: convert and save data as csv file for following r analsyis\n",
    "\n",
    "input data: those calculated in compute_vals_HL041822\n",
    "\n",
    "\n",
    "## Note on 05/02/22\n",
    "\n",
    "The reviewers suggested different pre-processing so we need to update all data"
   ]
  },
  {
   "cell_type": "code",
   "execution_count": 1,
   "metadata": {},
   "outputs": [
    {
     "name": "stdout",
     "output_type": "stream",
     "text": [
      "/home/luxx0489\n"
     ]
    }
   ],
   "source": [
    "cd"
   ]
  },
  {
   "cell_type": "code",
   "execution_count": 2,
   "metadata": {},
   "outputs": [],
   "source": [
    "# import packages\n",
    "import numpy as np\n",
    "import pandas as pd\n",
    "import matplotlib.pyplot as plt\n",
    "from random import sample\n",
    "import pickle\n",
    "from scipy.stats import circmean,circvar\n",
    "from sklearn import decomposition"
   ]
  },
  {
   "cell_type": "markdown",
   "metadata": {},
   "source": [
    "# Section 1"
   ]
  },
  {
   "cell_type": "markdown",
   "metadata": {},
   "source": [
    "## Fig.1"
   ]
  },
  {
   "cell_type": "markdown",
   "metadata": {},
   "source": [
    "Dataset of the absolute PLV values"
   ]
  },
  {
   "cell_type": "code",
   "execution_count": 4,
   "metadata": {},
   "outputs": [],
   "source": [
    "folder_path = \"./jupyter_projects/MultiChannelSSSR/EEG_data_40_100_200Hz_HF/\"\n",
    "file_handle = open(folder_path +'/absolute_PLV_and_ave_Mag_all_HL041822.obj','rb')\n",
    "output = pickle.load(file_handle)\n",
    "file_handle.close()\n",
    "\n",
    "ID_list = [6,7,8,9,10,12,14,16,17,18,19,20,21,22]\n"
   ]
  },
  {
   "cell_type": "code",
   "execution_count": 5,
   "metadata": {},
   "outputs": [],
   "source": [
    "\n",
    "df = pd.DataFrame(output[:,0:5],columns=['ID','reference','frequency']+ ['Mag_Cz','PLV_Cz'])\n",
    "df.head()\n",
    "\n",
    "df.to_csv(r'./jupyter_projects/MultiChannelSSSR/absolute_PLV_and_Mag_all_HL041822.csv')"
   ]
  },
  {
   "cell_type": "markdown",
   "metadata": {},
   "source": [
    "## Fig.2"
   ]
  },
  {
   "cell_type": "code",
   "execution_count": 6,
   "metadata": {},
   "outputs": [],
   "source": [
    "folder_path = \"./jupyter_projects/MultiChannelSSSR/EEG_data_40_100_200Hz_HF/\"\n",
    "file_handle = open(folder_path +'/Fig23_location_PLV_all_HL041822.obj','rb')\n",
    "output = pickle.load(file_handle)\n",
    "file_handle.close()\n",
    "\n",
    "output_col = np.empty((output.shape[0]*3,4))\n",
    "\n",
    "row_n = 0\n",
    "\n",
    "for i in range(output.shape[0]):\n",
    "    for j in [2,3,4]:\n",
    "        output_col[row_n,0:2] = output[i,0:2]\n",
    "        output_col[row_n,2] = j-1\n",
    "        output_col[row_n,3] = output[i,j]\n",
    "        row_n +=1"
   ]
  },
  {
   "cell_type": "code",
   "execution_count": 7,
   "metadata": {},
   "outputs": [
    {
     "data": {
      "text/html": [
       "<div>\n",
       "<style scoped>\n",
       "    .dataframe tbody tr th:only-of-type {\n",
       "        vertical-align: middle;\n",
       "    }\n",
       "\n",
       "    .dataframe tbody tr th {\n",
       "        vertical-align: top;\n",
       "    }\n",
       "\n",
       "    .dataframe thead th {\n",
       "        text-align: right;\n",
       "    }\n",
       "</style>\n",
       "<table border=\"1\" class=\"dataframe\">\n",
       "  <thead>\n",
       "    <tr style=\"text-align: right;\">\n",
       "      <th></th>\n",
       "      <th>ID</th>\n",
       "      <th>frequency(Hz)</th>\n",
       "      <th>channel</th>\n",
       "      <th>PLV</th>\n",
       "    </tr>\n",
       "  </thead>\n",
       "  <tbody>\n",
       "    <tr>\n",
       "      <th>0</th>\n",
       "      <td>6.0</td>\n",
       "      <td>34.28</td>\n",
       "      <td>1.0</td>\n",
       "      <td>0.080828</td>\n",
       "    </tr>\n",
       "    <tr>\n",
       "      <th>1</th>\n",
       "      <td>6.0</td>\n",
       "      <td>34.28</td>\n",
       "      <td>2.0</td>\n",
       "      <td>0.035929</td>\n",
       "    </tr>\n",
       "    <tr>\n",
       "      <th>2</th>\n",
       "      <td>6.0</td>\n",
       "      <td>34.28</td>\n",
       "      <td>3.0</td>\n",
       "      <td>0.083222</td>\n",
       "    </tr>\n",
       "    <tr>\n",
       "      <th>3</th>\n",
       "      <td>6.0</td>\n",
       "      <td>91.42</td>\n",
       "      <td>1.0</td>\n",
       "      <td>0.112501</td>\n",
       "    </tr>\n",
       "    <tr>\n",
       "      <th>4</th>\n",
       "      <td>6.0</td>\n",
       "      <td>91.42</td>\n",
       "      <td>2.0</td>\n",
       "      <td>0.007925</td>\n",
       "    </tr>\n",
       "  </tbody>\n",
       "</table>\n",
       "</div>"
      ],
      "text/plain": [
       "    ID  frequency(Hz)  channel       PLV\n",
       "0  6.0          34.28      1.0  0.080828\n",
       "1  6.0          34.28      2.0  0.035929\n",
       "2  6.0          34.28      3.0  0.083222\n",
       "3  6.0          91.42      1.0  0.112501\n",
       "4  6.0          91.42      2.0  0.007925"
      ]
     },
     "execution_count": 7,
     "metadata": {},
     "output_type": "execute_result"
    }
   ],
   "source": [
    "ID_list = [6,7,8,9,10,12,14,16,17,18,19,20,21,22]\n",
    "\n",
    "Freq_set = {34.28, 91.42, 217.13}\n",
    "\n",
    "label = [output_col[iE,1] in Freq_set for iE in range(output_col.shape[0])]\n",
    "df = pd.DataFrame(output_col[label,:],columns=['ID','frequency(Hz)']+ ['channel','PLV'])\n",
    "df.head()"
   ]
  },
  {
   "cell_type": "code",
   "execution_count": 8,
   "metadata": {},
   "outputs": [],
   "source": [
    "df.to_csv(r'./jupyter_projects/MultiChannelSSSR/Fig2_location_PLV_all_HL041822.csv')"
   ]
  },
  {
   "cell_type": "markdown",
   "metadata": {},
   "source": [
    "## Fig.3"
   ]
  },
  {
   "cell_type": "code",
   "execution_count": 10,
   "metadata": {},
   "outputs": [],
   "source": [
    "folder_path = \"./jupyter_projects/MultiChannelSSSR/EEG_data_40_100_200Hz_HF/\"\n",
    "file_handle = open(folder_path +'/Fig23_location_PLV_all_HL041822.obj','rb')\n",
    "output = pickle.load(file_handle)\n",
    "file_handle.close()"
   ]
  },
  {
   "cell_type": "code",
   "execution_count": 11,
   "metadata": {},
   "outputs": [],
   "source": [
    "output_diff = np.empty((output.shape[0],5))\n",
    "\n",
    "row_n = 0\n",
    "\n",
    "for i in range(output.shape[0]):\n",
    "    output_diff[i,0:2] = output[i,0:2]\n",
    "    output_diff[i,2] = output[i,5]-output[i,7]\n",
    "    output_diff[i,3] = output[i,5]\n",
    "    output_diff[i,4] = output[i,6]"
   ]
  },
  {
   "cell_type": "code",
   "execution_count": 12,
   "metadata": {},
   "outputs": [
    {
     "data": {
      "text/html": [
       "<div>\n",
       "<style scoped>\n",
       "    .dataframe tbody tr th:only-of-type {\n",
       "        vertical-align: middle;\n",
       "    }\n",
       "\n",
       "    .dataframe tbody tr th {\n",
       "        vertical-align: top;\n",
       "    }\n",
       "\n",
       "    .dataframe thead th {\n",
       "        text-align: right;\n",
       "    }\n",
       "</style>\n",
       "<table border=\"1\" class=\"dataframe\">\n",
       "  <thead>\n",
       "    <tr style=\"text-align: right;\">\n",
       "      <th></th>\n",
       "      <th>ID</th>\n",
       "      <th>frequency(Hz)</th>\n",
       "      <th>PhaseDiff</th>\n",
       "      <th>Vertex</th>\n",
       "      <th>Mastoid</th>\n",
       "    </tr>\n",
       "  </thead>\n",
       "  <tbody>\n",
       "    <tr>\n",
       "      <th>0</th>\n",
       "      <td>6.0</td>\n",
       "      <td>34.28</td>\n",
       "      <td>1.777667</td>\n",
       "      <td>0.489331</td>\n",
       "      <td>-2.878704</td>\n",
       "    </tr>\n",
       "    <tr>\n",
       "      <th>1</th>\n",
       "      <td>6.0</td>\n",
       "      <td>91.42</td>\n",
       "      <td>1.932715</td>\n",
       "      <td>2.296535</td>\n",
       "      <td>0.888831</td>\n",
       "    </tr>\n",
       "    <tr>\n",
       "      <th>2</th>\n",
       "      <td>6.0</td>\n",
       "      <td>217.13</td>\n",
       "      <td>4.859562</td>\n",
       "      <td>1.828593</td>\n",
       "      <td>1.508661</td>\n",
       "    </tr>\n",
       "    <tr>\n",
       "      <th>3</th>\n",
       "      <td>7.0</td>\n",
       "      <td>34.28</td>\n",
       "      <td>-3.336718</td>\n",
       "      <td>-0.664065</td>\n",
       "      <td>-1.736523</td>\n",
       "    </tr>\n",
       "    <tr>\n",
       "      <th>4</th>\n",
       "      <td>7.0</td>\n",
       "      <td>91.42</td>\n",
       "      <td>2.117988</td>\n",
       "      <td>0.906417</td>\n",
       "      <td>1.200835</td>\n",
       "    </tr>\n",
       "  </tbody>\n",
       "</table>\n",
       "</div>"
      ],
      "text/plain": [
       "    ID  frequency(Hz)  PhaseDiff    Vertex   Mastoid\n",
       "0  6.0          34.28   1.777667  0.489331 -2.878704\n",
       "1  6.0          91.42   1.932715  2.296535  0.888831\n",
       "2  6.0         217.13   4.859562  1.828593  1.508661\n",
       "3  7.0          34.28  -3.336718 -0.664065 -1.736523\n",
       "4  7.0          91.42   2.117988  0.906417  1.200835"
      ]
     },
     "execution_count": 12,
     "metadata": {},
     "output_type": "execute_result"
    }
   ],
   "source": [
    "ID_list = [6,7,8,9,10,12,14,16,17,18,19,20,21,22]\n",
    "\n",
    "Freq_set = {34.28, 91.42, 217.13}\n",
    "\n",
    "label = [output_diff[iE,1] in Freq_set for iE in range(output_diff.shape[0])]\n",
    "df = pd.DataFrame(output_diff[label,:],columns=['ID','frequency(Hz)']+ ['PhaseDiff','Vertex','Mastoid'])\n",
    "df.head()"
   ]
  },
  {
   "cell_type": "code",
   "execution_count": 13,
   "metadata": {},
   "outputs": [],
   "source": [
    "df.to_csv(r'./jupyter_projects/MultiChannelSSSR/Fig3_Phase_Diff_all_HL041822.csv')"
   ]
  },
  {
   "cell_type": "markdown",
   "metadata": {},
   "source": [
    "## Fig.4"
   ]
  },
  {
   "cell_type": "code",
   "execution_count": 14,
   "metadata": {},
   "outputs": [],
   "source": [
    "folder_path = \"./jupyter_projects/MultiChannelSSSR/EEG_data_40_100_200Hz_HF\"\n",
    "file_handle = open(folder_path +'/method_comparison_all_HL041822.obj','rb')\n",
    "output = pickle.load(file_handle)\n",
    "file_handle.close()\n",
    "\n",
    "ID_list = [6,7,8,9,10,12,14,16,17,18,19,20,21,22]\n"
   ]
  },
  {
   "cell_type": "code",
   "execution_count": 15,
   "metadata": {},
   "outputs": [
    {
     "data": {
      "text/html": [
       "<div>\n",
       "<style scoped>\n",
       "    .dataframe tbody tr th:only-of-type {\n",
       "        vertical-align: middle;\n",
       "    }\n",
       "\n",
       "    .dataframe tbody tr th {\n",
       "        vertical-align: top;\n",
       "    }\n",
       "\n",
       "    .dataframe thead th {\n",
       "        text-align: right;\n",
       "    }\n",
       "</style>\n",
       "<table border=\"1\" class=\"dataframe\">\n",
       "  <thead>\n",
       "    <tr style=\"text-align: right;\">\n",
       "      <th></th>\n",
       "      <th>ID</th>\n",
       "      <th>reference</th>\n",
       "      <th>frequency</th>\n",
       "      <th>sample size</th>\n",
       "      <th>PLV</th>\n",
       "      <th>ITC</th>\n",
       "      <th>PLV_Cz</th>\n",
       "      <th>ITC_Cz</th>\n",
       "      <th>plv_mean</th>\n",
       "      <th>itc_mean</th>\n",
       "      <th>plv_rms</th>\n",
       "      <th>itc_rms</th>\n",
       "      <th>T2</th>\n",
       "      <th>cpca</th>\n",
       "      <th>tpca</th>\n",
       "      <th>msmc</th>\n",
       "    </tr>\n",
       "  </thead>\n",
       "  <tbody>\n",
       "    <tr>\n",
       "      <th>0</th>\n",
       "      <td>6.0</td>\n",
       "      <td>0.0</td>\n",
       "      <td>34.28</td>\n",
       "      <td>200.0</td>\n",
       "      <td>3.293598</td>\n",
       "      <td>3.001414</td>\n",
       "      <td>2.590789</td>\n",
       "      <td>2.549307</td>\n",
       "      <td>3.711331</td>\n",
       "      <td>3.612406</td>\n",
       "      <td>5.262539</td>\n",
       "      <td>4.684148</td>\n",
       "      <td>0.933349</td>\n",
       "      <td>3.577663</td>\n",
       "      <td>0.397379</td>\n",
       "      <td>1.132795</td>\n",
       "    </tr>\n",
       "    <tr>\n",
       "      <th>1</th>\n",
       "      <td>6.0</td>\n",
       "      <td>0.0</td>\n",
       "      <td>34.28</td>\n",
       "      <td>400.0</td>\n",
       "      <td>1.799953</td>\n",
       "      <td>1.238108</td>\n",
       "      <td>0.260629</td>\n",
       "      <td>0.748509</td>\n",
       "      <td>2.824137</td>\n",
       "      <td>3.226420</td>\n",
       "      <td>4.142514</td>\n",
       "      <td>4.472827</td>\n",
       "      <td>7.420222</td>\n",
       "      <td>-0.922262</td>\n",
       "      <td>2.253924</td>\n",
       "      <td>6.315308</td>\n",
       "    </tr>\n",
       "    <tr>\n",
       "      <th>2</th>\n",
       "      <td>6.0</td>\n",
       "      <td>0.0</td>\n",
       "      <td>34.28</td>\n",
       "      <td>600.0</td>\n",
       "      <td>3.185067</td>\n",
       "      <td>3.894256</td>\n",
       "      <td>1.069503</td>\n",
       "      <td>1.475763</td>\n",
       "      <td>6.313717</td>\n",
       "      <td>4.703645</td>\n",
       "      <td>8.497267</td>\n",
       "      <td>6.245980</td>\n",
       "      <td>9.820623</td>\n",
       "      <td>0.043227</td>\n",
       "      <td>3.064284</td>\n",
       "      <td>8.164866</td>\n",
       "    </tr>\n",
       "    <tr>\n",
       "      <th>3</th>\n",
       "      <td>6.0</td>\n",
       "      <td>0.0</td>\n",
       "      <td>34.28</td>\n",
       "      <td>800.0</td>\n",
       "      <td>4.554255</td>\n",
       "      <td>3.799567</td>\n",
       "      <td>1.324165</td>\n",
       "      <td>2.599308</td>\n",
       "      <td>9.912379</td>\n",
       "      <td>7.737621</td>\n",
       "      <td>12.540435</td>\n",
       "      <td>9.709334</td>\n",
       "      <td>9.537129</td>\n",
       "      <td>2.782133</td>\n",
       "      <td>3.142588</td>\n",
       "      <td>10.096271</td>\n",
       "    </tr>\n",
       "    <tr>\n",
       "      <th>4</th>\n",
       "      <td>6.0</td>\n",
       "      <td>0.0</td>\n",
       "      <td>34.28</td>\n",
       "      <td>1000.0</td>\n",
       "      <td>5.002710</td>\n",
       "      <td>3.883408</td>\n",
       "      <td>1.692335</td>\n",
       "      <td>2.885385</td>\n",
       "      <td>8.326859</td>\n",
       "      <td>6.419285</td>\n",
       "      <td>10.970950</td>\n",
       "      <td>8.317190</td>\n",
       "      <td>13.431707</td>\n",
       "      <td>1.822628</td>\n",
       "      <td>3.539132</td>\n",
       "      <td>10.920225</td>\n",
       "    </tr>\n",
       "  </tbody>\n",
       "</table>\n",
       "</div>"
      ],
      "text/plain": [
       "    ID  reference  frequency  sample size       PLV       ITC    PLV_Cz  \\\n",
       "0  6.0        0.0      34.28        200.0  3.293598  3.001414  2.590789   \n",
       "1  6.0        0.0      34.28        400.0  1.799953  1.238108  0.260629   \n",
       "2  6.0        0.0      34.28        600.0  3.185067  3.894256  1.069503   \n",
       "3  6.0        0.0      34.28        800.0  4.554255  3.799567  1.324165   \n",
       "4  6.0        0.0      34.28       1000.0  5.002710  3.883408  1.692335   \n",
       "\n",
       "     ITC_Cz  plv_mean  itc_mean    plv_rms   itc_rms         T2      cpca  \\\n",
       "0  2.549307  3.711331  3.612406   5.262539  4.684148   0.933349  3.577663   \n",
       "1  0.748509  2.824137  3.226420   4.142514  4.472827   7.420222 -0.922262   \n",
       "2  1.475763  6.313717  4.703645   8.497267  6.245980   9.820623  0.043227   \n",
       "3  2.599308  9.912379  7.737621  12.540435  9.709334   9.537129  2.782133   \n",
       "4  2.885385  8.326859  6.419285  10.970950  8.317190  13.431707  1.822628   \n",
       "\n",
       "       tpca       msmc  \n",
       "0  0.397379   1.132795  \n",
       "1  2.253924   6.315308  \n",
       "2  3.064284   8.164866  \n",
       "3  3.142588  10.096271  \n",
       "4  3.539132  10.920225  "
      ]
     },
     "execution_count": 15,
     "metadata": {},
     "output_type": "execute_result"
    }
   ],
   "source": [
    "\n",
    "df = pd.DataFrame(output[:,:],columns=['ID','reference','frequency','sample size']+\n",
    "                  ['PLV','ITC','PLV_Cz','ITC_Cz','plv_mean','itc_mean','plv_rms','itc_rms','T2','cpca','tpca','msmc'])\n",
    "df.head()"
   ]
  },
  {
   "cell_type": "code",
   "execution_count": 16,
   "metadata": {},
   "outputs": [],
   "source": [
    "dictionary = {0:'CAR',1:'LMR'}\n",
    "df_s =df[['ID','reference','frequency','sample size']+\n",
    "                  ['PLV_Cz','plv_rms','T2','cpca','tpca','msmc']].replace({'reference':dictionary})\n",
    "\n",
    "df_m = df_s.melt(['ID','reference','frequency','sample size'])"
   ]
  },
  {
   "cell_type": "code",
   "execution_count": 17,
   "metadata": {},
   "outputs": [],
   "source": [
    "df_m.to_csv(r'./jupyter_projects/MultiChannelSSSR/Fig4_method_comparison_Cz_HL041822.csv')"
   ]
  }
 ],
 "metadata": {
  "kernelspec": {
   "display_name": "Python 3",
   "language": "python",
   "name": "python3"
  },
  "language_info": {
   "codemirror_mode": {
    "name": "ipython",
    "version": 3
   },
   "file_extension": ".py",
   "mimetype": "text/x-python",
   "name": "python",
   "nbconvert_exporter": "python",
   "pygments_lexer": "ipython3",
   "version": "3.7.5"
  }
 },
 "nbformat": 4,
 "nbformat_minor": 2
}
